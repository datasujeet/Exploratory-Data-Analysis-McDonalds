{
  "cells": [
    {
      "cell_type": "code",
      "execution_count": 2,
      "id": "9dbd480f",
      "metadata": {
        "id": "9dbd480f"
      },
      "outputs": [],
      "source": [
        "import pandas as pd\n",
        "import numpy as np\n",
        "\n",
        "# Nutrition facts about different items for McDonald's menu.\n",
        "df_mcd = pd.read_excel(\"/content/menu.xlsx\")\n",
        "\n",
        "# McDonald's store location information.\n",
        "df_store = pd.read_excel(\"/content/outlets.xlsx\")\n"
      ]
    },
    {
      "cell_type": "code",
      "execution_count": null,
      "id": "f4673a1f",
      "metadata": {
        "id": "f4673a1f",
        "outputId": "56590f34-ac32-4395-ce50-33288782e2e2"
      },
      "outputs": [
        {
          "name": "stdout",
          "output_type": "stream",
          "text": [
            "Data Shape: (340, 31)\n"
          ]
        },
        {
          "data": {
            "text/html": [
              "<div>\n",
              "<style scoped>\n",
              "    .dataframe tbody tr th:only-of-type {\n",
              "        vertical-align: middle;\n",
              "    }\n",
              "\n",
              "    .dataframe tbody tr th {\n",
              "        vertical-align: top;\n",
              "    }\n",
              "\n",
              "    .dataframe thead th {\n",
              "        text-align: right;\n",
              "    }\n",
              "</style>\n",
              "<table border=\"1\" class=\"dataframe\">\n",
              "  <thead>\n",
              "    <tr style=\"text-align: right;\">\n",
              "      <th></th>\n",
              "      <th>Store_ID</th>\n",
              "      <th>Store_Name</th>\n",
              "      <th>Ownership_Type</th>\n",
              "      <th>Street_Address</th>\n",
              "      <th>City</th>\n",
              "      <th>State</th>\n",
              "      <th>Country</th>\n",
              "      <th>Postcode</th>\n",
              "      <th>Phone_Number</th>\n",
              "      <th>Timezone</th>\n",
              "      <th>...</th>\n",
              "      <th>Energy</th>\n",
              "      <th>Protein</th>\n",
              "      <th>Total_Fat</th>\n",
              "      <th>Saturated_Fat</th>\n",
              "      <th>Trans_Fat</th>\n",
              "      <th>Cholestrol</th>\n",
              "      <th>Carbohydrates</th>\n",
              "      <th>Sugars</th>\n",
              "      <th>Dietary_Fibre</th>\n",
              "      <th>Sodium</th>\n",
              "    </tr>\n",
              "  </thead>\n",
              "  <tbody>\n",
              "    <tr>\n",
              "      <th>0</th>\n",
              "      <td>23149-228271</td>\n",
              "      <td>Banjara Hills</td>\n",
              "      <td>Joint Venture</td>\n",
              "      <td>Lower Ground Floor, GVK One, Road Number 1, Ba...</td>\n",
              "      <td>Hyderabad</td>\n",
              "      <td>AP</td>\n",
              "      <td>IN</td>\n",
              "      <td>500034</td>\n",
              "      <td>NaN</td>\n",
              "      <td>GMT+05:30 Asia/New_Delhi</td>\n",
              "      <td>...</td>\n",
              "      <td>290</td>\n",
              "      <td>14</td>\n",
              "      <td>13.0</td>\n",
              "      <td>7.0</td>\n",
              "      <td>0.2</td>\n",
              "      <td>244</td>\n",
              "      <td>28</td>\n",
              "      <td>2</td>\n",
              "      <td>2</td>\n",
              "      <td>620</td>\n",
              "    </tr>\n",
              "    <tr>\n",
              "      <th>1</th>\n",
              "      <td>23191-228548</td>\n",
              "      <td>Kukatpally</td>\n",
              "      <td>Joint Venture</td>\n",
              "      <td>Upper Ground Floor, Forum Sujana Mall, Kukatpally</td>\n",
              "      <td>Hyderabad</td>\n",
              "      <td>AP</td>\n",
              "      <td>IN</td>\n",
              "      <td>500072</td>\n",
              "      <td>NaN</td>\n",
              "      <td>GMT+05:30 Asia/New_Delhi</td>\n",
              "      <td>...</td>\n",
              "      <td>273</td>\n",
              "      <td>16</td>\n",
              "      <td>11.0</td>\n",
              "      <td>5.7</td>\n",
              "      <td>0.2</td>\n",
              "      <td>50</td>\n",
              "      <td>28</td>\n",
              "      <td>2</td>\n",
              "      <td>2</td>\n",
              "      <td>950</td>\n",
              "    </tr>\n",
              "    <tr>\n",
              "      <th>2</th>\n",
              "      <td>23193-228546</td>\n",
              "      <td>Madhapur</td>\n",
              "      <td>Joint Venture</td>\n",
              "      <td>Lower Ground Floor, Inorbit Mall, Madhapur</td>\n",
              "      <td>Hyderabad</td>\n",
              "      <td>AP</td>\n",
              "      <td>IN</td>\n",
              "      <td>500081</td>\n",
              "      <td>NaN</td>\n",
              "      <td>GMT+05:30 Asia/New_Delhi</td>\n",
              "      <td>...</td>\n",
              "      <td>355</td>\n",
              "      <td>22</td>\n",
              "      <td>17.0</td>\n",
              "      <td>7.9</td>\n",
              "      <td>0.2</td>\n",
              "      <td>277</td>\n",
              "      <td>29</td>\n",
              "      <td>2</td>\n",
              "      <td>2</td>\n",
              "      <td>1020</td>\n",
              "    </tr>\n",
              "  </tbody>\n",
              "</table>\n",
              "<p>3 rows × 31 columns</p>\n",
              "</div>"
            ],
            "text/plain": [
              "       Store_ID     Store_Name Ownership_Type  \\\n",
              "0  23149-228271  Banjara Hills  Joint Venture   \n",
              "1  23191-228548     Kukatpally  Joint Venture   \n",
              "2  23193-228546       Madhapur  Joint Venture   \n",
              "\n",
              "                                      Street_Address       City State Country  \\\n",
              "0  Lower Ground Floor, GVK One, Road Number 1, Ba...  Hyderabad    AP      IN   \n",
              "1  Upper Ground Floor, Forum Sujana Mall, Kukatpally  Hyderabad    AP      IN   \n",
              "2         Lower Ground Floor, Inorbit Mall, Madhapur  Hyderabad    AP      IN   \n",
              "\n",
              "   Postcode Phone_Number                  Timezone  ...  Energy  Protein  \\\n",
              "0    500034          NaN  GMT+05:30 Asia/New_Delhi  ...     290       14   \n",
              "1    500072          NaN  GMT+05:30 Asia/New_Delhi  ...     273       16   \n",
              "2    500081          NaN  GMT+05:30 Asia/New_Delhi  ...     355       22   \n",
              "\n",
              "   Total_Fat  Saturated_Fat  Trans_Fat  Cholestrol  Carbohydrates Sugars  \\\n",
              "0       13.0            7.0        0.2         244             28      2   \n",
              "1       11.0            5.7        0.2          50             28      2   \n",
              "2       17.0            7.9        0.2         277             29      2   \n",
              "\n",
              "  Dietary_Fibre Sodium  \n",
              "0             2    620  \n",
              "1             2    950  \n",
              "2             2   1020  \n",
              "\n",
              "[3 rows x 31 columns]"
            ]
          },
          "execution_count": 2,
          "metadata": {},
          "output_type": "execute_result"
        }
      ],
      "source": [
        "# Merge data using menu and outlets\n",
        "data = pd.merge(left=df_store, \n",
        "                right=df_mcd, \n",
        "                how='left',\n",
        "                left_on='Best_Selling_Item',\n",
        "                right_on='Item'\n",
        "                )\n",
        "\n",
        "# Display the final data shape\n",
        "print('Data Shape:', data.shape)\n",
        "\n",
        "# Output top 3 rows\n",
        "data.head(3)"
      ]
    },
    {
      "cell_type": "code",
      "execution_count": null,
      "id": "0a6ece6e",
      "metadata": {
        "id": "0a6ece6e",
        "outputId": "805a55f8-6f7a-4b17-d2ae-f8494968516f"
      },
      "outputs": [
        {
          "name": "stdout",
          "output_type": "stream",
          "text": [
            "<class 'pandas.core.frame.DataFrame'>\n",
            "Int64Index: 340 entries, 0 to 339\n",
            "Data columns (total 31 columns):\n",
            " #   Column               Non-Null Count  Dtype  \n",
            "---  ------               --------------  -----  \n",
            " 0   Store_ID             340 non-null    object \n",
            " 1   Store_Name           340 non-null    object \n",
            " 2   Ownership_Type       340 non-null    object \n",
            " 3   Street_Address       340 non-null    object \n",
            " 4   City                 340 non-null    object \n",
            " 5   State                340 non-null    object \n",
            " 6   Country              340 non-null    object \n",
            " 7   Postcode             340 non-null    int64  \n",
            " 8   Phone_Number         248 non-null    object \n",
            " 9   Timezone             340 non-null    object \n",
            " 10  Longitude            340 non-null    float64\n",
            " 11  Latitude             340 non-null    float64\n",
            " 12  Revenue              340 non-null    float64\n",
            " 13  Profits              340 non-null    float64\n",
            " 14  Gross_Profit_Margin  340 non-null    float64\n",
            " 15  Number_of_Employees  340 non-null    float64\n",
            " 16  Customers            340 non-null    float64\n",
            " 17  Best_Selling_Item    340 non-null    object \n",
            " 18  Category             340 non-null    object \n",
            " 19  Item                 340 non-null    object \n",
            " 20  Serve_Size           340 non-null    object \n",
            " 21  Energy               340 non-null    int64  \n",
            " 22  Protein              340 non-null    int64  \n",
            " 23  Total_Fat            340 non-null    float64\n",
            " 24  Saturated_Fat        340 non-null    float64\n",
            " 25  Trans_Fat            340 non-null    float64\n",
            " 26  Cholestrol           340 non-null    int64  \n",
            " 27  Carbohydrates        340 non-null    int64  \n",
            " 28  Sugars               340 non-null    int64  \n",
            " 29  Dietary_Fibre        340 non-null    int64  \n",
            " 30  Sodium               340 non-null    object \n",
            "dtypes: float64(10), int64(7), object(14)\n",
            "memory usage: 85.0+ KB\n"
          ]
        }
      ],
      "source": [
        "data.info()"
      ]
    },
    {
      "cell_type": "code",
      "execution_count": null,
      "id": "c70c5181",
      "metadata": {
        "id": "c70c5181",
        "outputId": "44cd22f5-126e-4f0e-ac43-b6035484bec3"
      },
      "outputs": [
        {
          "data": {
            "text/html": [
              "<div>\n",
              "<style scoped>\n",
              "    .dataframe tbody tr th:only-of-type {\n",
              "        vertical-align: middle;\n",
              "    }\n",
              "\n",
              "    .dataframe tbody tr th {\n",
              "        vertical-align: top;\n",
              "    }\n",
              "\n",
              "    .dataframe thead th {\n",
              "        text-align: right;\n",
              "    }\n",
              "</style>\n",
              "<table border=\"1\" class=\"dataframe\">\n",
              "  <thead>\n",
              "    <tr style=\"text-align: right;\">\n",
              "      <th></th>\n",
              "      <th>Item</th>\n",
              "      <th>Best_Selling_Item</th>\n",
              "    </tr>\n",
              "  </thead>\n",
              "  <tbody>\n",
              "    <tr>\n",
              "      <th>0</th>\n",
              "      <td>Egg &amp; Cheese Muﬃn</td>\n",
              "      <td>Egg &amp; Cheese Muﬃn</td>\n",
              "    </tr>\n",
              "    <tr>\n",
              "      <th>1</th>\n",
              "      <td>Sausage McMuﬀm</td>\n",
              "      <td>Sausage McMuﬀm</td>\n",
              "    </tr>\n",
              "    <tr>\n",
              "      <th>2</th>\n",
              "      <td>Sausage &amp; Egg McMuﬀm</td>\n",
              "      <td>Sausage &amp; Egg McMuﬀm</td>\n",
              "    </tr>\n",
              "    <tr>\n",
              "      <th>3</th>\n",
              "      <td>Veg McMuﬀm</td>\n",
              "      <td>Veg McMuﬀm</td>\n",
              "    </tr>\n",
              "    <tr>\n",
              "      <th>4</th>\n",
              "      <td>Veg Supreme Muﬃn</td>\n",
              "      <td>Veg Supreme Muﬃn</td>\n",
              "    </tr>\n",
              "    <tr>\n",
              "      <th>5</th>\n",
              "      <td>Hot Cakes with Maple Syrup</td>\n",
              "      <td>Hot Cakes with Maple Syrup</td>\n",
              "    </tr>\n",
              "    <tr>\n",
              "      <th>6</th>\n",
              "      <td>Hash Brown</td>\n",
              "      <td>Hash Brown</td>\n",
              "    </tr>\n",
              "    <tr>\n",
              "      <th>7</th>\n",
              "      <td>McEgg Burger</td>\n",
              "      <td>McEgg Burger</td>\n",
              "    </tr>\n",
              "    <tr>\n",
              "      <th>8</th>\n",
              "      <td>Chicken Maharaja Mac</td>\n",
              "      <td>Chicken Maharaja Mac</td>\n",
              "    </tr>\n",
              "    <tr>\n",
              "      <th>9</th>\n",
              "      <td>McChicken</td>\n",
              "      <td>McChicken</td>\n",
              "    </tr>\n",
              "    <tr>\n",
              "      <th>10</th>\n",
              "      <td>Filet-0-Fish</td>\n",
              "      <td>Filet-0-Fish</td>\n",
              "    </tr>\n",
              "    <tr>\n",
              "      <th>11</th>\n",
              "      <td>Chicken McGrill</td>\n",
              "      <td>Chicken McGrill</td>\n",
              "    </tr>\n",
              "    <tr>\n",
              "      <th>12</th>\n",
              "      <td>McVeggie</td>\n",
              "      <td>McVeggie</td>\n",
              "    </tr>\n",
              "    <tr>\n",
              "      <th>13</th>\n",
              "      <td>McAloo Tikki</td>\n",
              "      <td>McAloo Tikki</td>\n",
              "    </tr>\n",
              "    <tr>\n",
              "      <th>14</th>\n",
              "      <td>McSpicy Paneer Burger</td>\n",
              "      <td>McSpicy Paneer Burger</td>\n",
              "    </tr>\n",
              "    <tr>\n",
              "      <th>15</th>\n",
              "      <td>BigSpicy Paneer Wrap</td>\n",
              "      <td>BigSpicy Paneer Wrap</td>\n",
              "    </tr>\n",
              "    <tr>\n",
              "      <th>16</th>\n",
              "      <td>McSpicy Chicken Burger</td>\n",
              "      <td>McSpicy Chicken Burger</td>\n",
              "    </tr>\n",
              "    <tr>\n",
              "      <th>17</th>\n",
              "      <td>BigSpicy Chicken Wrap</td>\n",
              "      <td>BigSpicy Chicken Wrap</td>\n",
              "    </tr>\n",
              "    <tr>\n",
              "      <th>18</th>\n",
              "      <td>Regular Fries</td>\n",
              "      <td>Regular Fries</td>\n",
              "    </tr>\n",
              "    <tr>\n",
              "      <th>19</th>\n",
              "      <td>Medium Fries</td>\n",
              "      <td>Medium Fries</td>\n",
              "    </tr>\n",
              "  </tbody>\n",
              "</table>\n",
              "</div>"
            ],
            "text/plain": [
              "                          Item           Best_Selling_Item\n",
              "0            Egg & Cheese Muﬃn           Egg & Cheese Muﬃn\n",
              "1               Sausage McMuﬀm              Sausage McMuﬀm\n",
              "2         Sausage & Egg McMuﬀm        Sausage & Egg McMuﬀm\n",
              "3                   Veg McMuﬀm                  Veg McMuﬀm\n",
              "4             Veg Supreme Muﬃn            Veg Supreme Muﬃn\n",
              "5   Hot Cakes with Maple Syrup  Hot Cakes with Maple Syrup\n",
              "6                   Hash Brown                  Hash Brown\n",
              "7                 McEgg Burger                McEgg Burger\n",
              "8         Chicken Maharaja Mac        Chicken Maharaja Mac\n",
              "9                    McChicken                   McChicken\n",
              "10                Filet-0-Fish                Filet-0-Fish\n",
              "11             Chicken McGrill             Chicken McGrill\n",
              "12                    McVeggie                    McVeggie\n",
              "13                McAloo Tikki                McAloo Tikki\n",
              "14       McSpicy Paneer Burger       McSpicy Paneer Burger\n",
              "15        BigSpicy Paneer Wrap        BigSpicy Paneer Wrap\n",
              "16      McSpicy Chicken Burger      McSpicy Chicken Burger\n",
              "17       BigSpicy Chicken Wrap       BigSpicy Chicken Wrap\n",
              "18               Regular Fries               Regular Fries\n",
              "19                Medium Fries                Medium Fries"
            ]
          },
          "execution_count": 4,
          "metadata": {},
          "output_type": "execute_result"
        }
      ],
      "source": [
        "data[['Item','Best_Selling_Item']].head(20)"
      ]
    },
    {
      "cell_type": "code",
      "execution_count": null,
      "id": "0bdb8f6b",
      "metadata": {
        "id": "0bdb8f6b"
      },
      "outputs": [],
      "source": [
        "data.drop(['Item'], axis = 1,inplace = True)"
      ]
    },
    {
      "cell_type": "markdown",
      "id": "7b063e8f",
      "metadata": {
        "id": "7b063e8f"
      },
      "source": [
        "### Check the duplicate value"
      ]
    },
    {
      "cell_type": "code",
      "execution_count": null,
      "id": "d2f09f87",
      "metadata": {
        "id": "d2f09f87",
        "outputId": "812946d8-682b-45cd-b1bb-2b1645c8ebb2"
      },
      "outputs": [
        {
          "data": {
            "text/plain": [
              "0"
            ]
          },
          "execution_count": 4,
          "metadata": {},
          "output_type": "execute_result"
        }
      ],
      "source": [
        "data.duplicated().sum()"
      ]
    },
    {
      "cell_type": "markdown",
      "id": "11502100",
      "metadata": {
        "id": "11502100"
      },
      "source": [
        "### Check the unique value bcz its mislead datatype"
      ]
    },
    {
      "cell_type": "code",
      "execution_count": null,
      "id": "9c92f446",
      "metadata": {
        "id": "9c92f446",
        "outputId": "9da63a6e-1be3-452b-dcbc-0cf170ddce10"
      },
      "outputs": [
        {
          "data": {
            "text/plain": [
              "array([620, 950, 1020, 1000, 960, 630, 370, 700, 1030, 840, 670, 570, 650,\n",
              "       790, 940, 1830, 1330, 2030, 260, 520, 580, 320, 480, 720, 640,\n",
              "       1290, 70, 210, 230, 220, 60, 80, 110, 170, 120, 240, '-', 0, 390,\n",
              "       400, 410, 560, 450, 610, 440, 740, 420, 20, 920, 820, 750, 770,\n",
              "       780, 860, 880, 1300, 1410, 1420, 1080, 1190, 1170, 1280, 1180,\n",
              "       1470, 1250, 1320, 1480, 1510, 1560, 1680, 1590, 1700, 2150, 2260,\n",
              "       2170, 2290, 590, 930, 160, 115, 1100, 1440, 680, 1040, 1110, 760,\n",
              "       980, 990, 1400, 1230, 1720, 910, 1260, 1540, 1370, 1340, 1090, 360,\n",
              "       540, 900, 1800, 3600, 300, 690, 150, 850, 730, 810, 130, 190, 290,\n",
              "       65, 10, 90, 135, 85, 5, 35, 15, 45, 30, 100, 140, 50, 25, 125, 180,\n",
              "       270, 280, 75, 40, 55, 250, 200, 380], dtype=object)"
            ]
          },
          "execution_count": 5,
          "metadata": {},
          "output_type": "execute_result"
        }
      ],
      "source": [
        "data['Sodium'].unique()"
      ]
    },
    {
      "cell_type": "code",
      "execution_count": null,
      "id": "0338e515",
      "metadata": {
        "id": "0338e515"
      },
      "outputs": [],
      "source": [
        "data['Sodium'] = data['Sodium'].replace('-',np.NaN)   #'-' value replace with NaN value\n",
        "data['Sodium'] = data['Sodium'].fillna(data['Sodium'].median())   #'-' value replace with median value"
      ]
    },
    {
      "cell_type": "code",
      "execution_count": null,
      "id": "f14df467",
      "metadata": {
        "id": "f14df467"
      },
      "outputs": [],
      "source": [
        "#convert float number to int\n",
        "data['Sodium'] = data['Sodium'].astype(int)"
      ]
    },
    {
      "cell_type": "markdown",
      "id": "6b9ed344",
      "metadata": {
        "id": "6b9ed344"
      },
      "source": [
        "### Check Inconsistency of data Serve_Size feature "
      ]
    },
    {
      "cell_type": "code",
      "execution_count": null,
      "id": "174613a9",
      "metadata": {
        "id": "174613a9",
        "outputId": "f944c4c3-b363-4198-b2d0-0a42fe84c53a"
      },
      "outputs": [
        {
          "data": {
            "text/plain": [
              "array([112, 157, 119, 139, '142 g', 64, 115, 246, '173 g', '136 g', 130,\n",
              "       '169 g', 146, 199, 272, '186 g', 260, 110, 156, '220 g', 87, 96,\n",
              "       144, 90, 180, 9, 25, 14, 10, 200, 275, 402, 277, 400, '249 g', 344,\n",
              "       494, 249, '344 g', 300, '500 g', 250, 237, 247, 81, 93, '97 g',\n",
              "       '92 g', '132 g', 92, 132, 111, 155, 147, 94, 167, '200 g', 141,\n",
              "       133, 121, '123 g', 136, 135, 161, 185, 150, 164, 153, 117, 131,\n",
              "       163, 177, 181, 143, 201, 174, 178, 205, 197, 241, '269 g', 283,\n",
              "       '286 g', 420, 434, '423 g', 437, 151, 192, '111 g', 114, 251,\n",
              "       '211 g', 202, 227, 235, 244, 98, 113, 270, '190 g', 159, 208, 213,\n",
              "       230, 217, '284 g', 160, 171, 148, 316, 302, 310, 297, 314, 318,\n",
              "       304, 291, 65, 97, 162, 323, 646, 142, 223, 255, 348, 335, '130 g',\n",
              "       123, 116, 128, '121 g', 75, 168, '38 g', 34, 149, 77, '33 g', 33,\n",
              "       29, 179, 182, 453, 595, 850, 340, '453 g', 236, 170, 623, 479,\n",
              "       '595 g', 566, '566 g', '340 g', 907, '907 g', '623 g', 460, 207,\n",
              "       '285 g', 381, 190, 403], dtype=object)"
            ]
          },
          "execution_count": 9,
          "metadata": {},
          "output_type": "execute_result"
        }
      ],
      "source": [
        "data['Serve_Size'].unique()"
      ]
    },
    {
      "cell_type": "code",
      "execution_count": null,
      "id": "56db60d2",
      "metadata": {
        "id": "56db60d2",
        "outputId": "53b555fa-581b-48f6-b694-109ecdbab738"
      },
      "outputs": [
        {
          "data": {
            "text/plain": [
              "453      38\n",
              "340      33\n",
              "623      16\n",
              "566      12\n",
              "200       8\n",
              "         ..\n",
              "200 g     1\n",
              "94        1\n",
              "155       1\n",
              "132       1\n",
              "403       1\n",
              "Name: Serve_Size, Length: 166, dtype: int64"
            ]
          },
          "execution_count": 10,
          "metadata": {},
          "output_type": "execute_result"
        }
      ],
      "source": [
        "data['Serve_Size'].value_counts()"
      ]
    },
    {
      "cell_type": "code",
      "execution_count": null,
      "id": "c83c4181",
      "metadata": {
        "id": "c83c4181",
        "outputId": "6b560e2e-932e-4798-e6cb-85ebff6e862d"
      },
      "outputs": [
        {
          "data": {
            "text/plain": [
              "array([344, 494, '249 g', '344 g', 494, 300, '500 g', 200, 200, 250],\n",
              "      dtype=object)"
            ]
          },
          "execution_count": 11,
          "metadata": {},
          "output_type": "execute_result"
        }
      ],
      "source": [
        "data['Serve_Size'].values[45:55]"
      ]
    },
    {
      "cell_type": "code",
      "execution_count": null,
      "id": "48a4091a",
      "metadata": {
        "id": "48a4091a"
      },
      "outputs": [],
      "source": [
        "# Replacing units of serve size with nothing\n",
        "data['Serve_Size'] = data['Serve_Size'].astype(str).str.replace(' g', '').astype(int)"
      ]
    },
    {
      "cell_type": "markdown",
      "id": "1fbf13e3",
      "metadata": {
        "id": "1fbf13e3"
      },
      "source": [
        "### Check Number_of_Employees & Customer feature it should not be float"
      ]
    },
    {
      "cell_type": "code",
      "execution_count": null,
      "id": "35dd5df9",
      "metadata": {
        "id": "35dd5df9",
        "outputId": "2849db37-b421-42a6-c04d-53a54ed0f519"
      },
      "outputs": [
        {
          "data": {
            "text/plain": [
              "0       34.311197\n",
              "1       25.487533\n",
              "2       54.208502\n",
              "3       45.046083\n",
              "4       77.772607\n",
              "          ...    \n",
              "335     53.958251\n",
              "336    105.235450\n",
              "337     70.593890\n",
              "338    146.414075\n",
              "339     64.938810\n",
              "Name: Number_of_Employees, Length: 340, dtype: float64"
            ]
          },
          "execution_count": 13,
          "metadata": {},
          "output_type": "execute_result"
        }
      ],
      "source": [
        "data['Number_of_Employees']"
      ]
    },
    {
      "cell_type": "code",
      "execution_count": null,
      "id": "01a06da5",
      "metadata": {
        "id": "01a06da5",
        "outputId": "29b885c1-2c4c-4d7c-b3c0-25c166d0007e"
      },
      "outputs": [
        {
          "data": {
            "text/plain": [
              "0       3979.583117\n",
              "1       1156.010620\n",
              "2      10346.720786\n",
              "3       7414.746544\n",
              "4      17887.234107\n",
              "           ...     \n",
              "335     4610.217597\n",
              "336    20800.164800\n",
              "337    23892.544328\n",
              "338    10091.097751\n",
              "339     9696.310312\n",
              "Name: Customers, Length: 340, dtype: float64"
            ]
          },
          "execution_count": 14,
          "metadata": {},
          "output_type": "execute_result"
        }
      ],
      "source": [
        "data['Customers']"
      ]
    },
    {
      "cell_type": "code",
      "execution_count": null,
      "id": "796c94ea",
      "metadata": {
        "id": "796c94ea"
      },
      "outputs": [],
      "source": [
        "data['Number_of_Employees'] = data['Number_of_Employees'].apply(np.floor).astype(int)\n",
        "data['Customers'] = data['Customers'].apply(np.floor).astype(int)"
      ]
    },
    {
      "cell_type": "code",
      "execution_count": null,
      "id": "aa1bf28b",
      "metadata": {
        "id": "aa1bf28b",
        "outputId": "06395dd8-f7b7-4324-f248-82574c3fb092"
      },
      "outputs": [
        {
          "data": {
            "text/plain": [
              "0       3979\n",
              "1       1156\n",
              "2      10346\n",
              "3       7414\n",
              "4      17887\n",
              "       ...  \n",
              "335     4610\n",
              "336    20800\n",
              "337    23892\n",
              "338    10091\n",
              "339     9696\n",
              "Name: Customers, Length: 340, dtype: int32"
            ]
          },
          "execution_count": 16,
          "metadata": {},
          "output_type": "execute_result"
        }
      ],
      "source": [
        "data['Customers']"
      ]
    },
    {
      "cell_type": "code",
      "execution_count": null,
      "id": "ba1d42e7",
      "metadata": {
        "id": "ba1d42e7"
      },
      "outputs": [],
      "source": [
        "data.drop(\"Phone_Number\",axis=1, inplace=True)"
      ]
    },
    {
      "cell_type": "markdown",
      "id": "6e872217",
      "metadata": {
        "id": "6e872217"
      },
      "source": [
        "# EDA- Exploratory Data Analysis"
      ]
    },
    {
      "cell_type": "markdown",
      "id": "a69f5aa4",
      "metadata": {
        "id": "a69f5aa4"
      },
      "source": [
        "### Outlets base Analysis"
      ]
    },
    {
      "cell_type": "markdown",
      "id": "2ca420d6",
      "metadata": {
        "id": "2ca420d6"
      },
      "source": [
        "### Q1-How many stores are owned and run by McDonald??"
      ]
    },
    {
      "cell_type": "code",
      "execution_count": null,
      "id": "2c756fd7",
      "metadata": {
        "id": "2c756fd7"
      },
      "outputs": [],
      "source": [
        "labels = data['Ownership_Type'].value_counts().index\n",
        "values = data['Ownership_Type'].value_counts().values"
      ]
    },
    {
      "cell_type": "code",
      "execution_count": null,
      "id": "8bb01945",
      "metadata": {
        "id": "8bb01945",
        "outputId": "47667f9f-94f8-4b8b-9d9e-8eca176e878e"
      },
      "outputs": [
        {
          "data": {
            "text/plain": [
              "<Axes: >"
            ]
          },
          "execution_count": 19,
          "metadata": {},
          "output_type": "execute_result"
        },
        {
          "data": {
            "image/png": "[encoded data removed]",
            "text/plain": [
              "<Figure size 640x480 with 1 Axes>"
            ]
          },
          "metadata": {},
          "output_type": "display_data"
        }
      ],
      "source": [
        "#Bar Plot\n",
        "data['Ownership_Type'].value_counts().plot(kind='bar')"
      ]
    },
    {
      "cell_type": "code",
      "execution_count": null,
      "id": "9dfbdf67",
      "metadata": {
        "id": "9dfbdf67",
        "outputId": "806bb1ce-dfc3-43ef-bbc7-86f21c91d46a"
      },
      "outputs": [
        {
          "data": {
            "text/plain": [
              "<Axes: ylabel='Ownership_Type'>"
            ]
          },
          "execution_count": 20,
          "metadata": {},
          "output_type": "execute_result"
        },
        {
          "data": {
            "image/png": "[encoded data removed]",
            "text/plain": [
              "<Figure size 640x480 with 1 Axes>"
            ]
          },
          "metadata": {},
          "output_type": "display_data"
        }
      ],
      "source": [
        "#Pie Plot\n",
        "data['Ownership_Type'].value_counts().plot(kind='pie',autopct='%.2f')"
      ]
    },
    {
      "cell_type": "code",
      "execution_count": null,
      "id": "020499a8",
      "metadata": {
        "id": "020499a8",
        "outputId": "03f28ae1-21fa-4920-fff7-d68d80bb3cce"
      },
      "outputs": [
        {
          "data": {
            "text/plain": [
              "<Axes: ylabel='Ownership_Type'>"
            ]
          },
          "execution_count": 21,
          "metadata": {},
          "output_type": "execute_result"
        },
        {
          "data": {
            "image/png": "[encoded data removed]",
            "text/plain": [
              "<Figure size 640x480 with 1 Axes>"
            ]
          },
          "metadata": {},
          "output_type": "display_data"
        }
      ],
      "source": [
        "#Donut Plot\n",
        "data['Ownership_Type'].value_counts().plot(kind='pie',autopct='%1.1f%%',legend=True)"
      ]
    },
    {
      "cell_type": "code",
      "execution_count": null,
      "id": "78b51860",
      "metadata": {
        "id": "78b51860",
        "outputId": "ac295df0-f1f9-4126-e579-4a8a55cc3b3d"
      },
      "outputs": [
        {
          "data": {
            "text/plain": [
              "<Axes: xlabel='Ownership_Type', ylabel='count'>"
            ]
          },
          "execution_count": 22,
          "metadata": {},
          "output_type": "execute_result"
        },
        {
          "data": {
            "image/png": "[encoded data removed]",
            "text/plain": [
              "<Figure size 640x480 with 1 Axes>"
            ]
          },
          "metadata": {},
          "output_type": "display_data"
        }
      ],
      "source": [
        "#Count Plot\n",
        "import seaborn as sns\n",
        "sns.countplot(x=data['Ownership_Type']) "
      ]
    },
    {
      "cell_type": "markdown",
      "id": "162ed302",
      "metadata": {
        "id": "162ed302"
      },
      "source": [
        "### Q2: Which top 10 outlets generate maximum revenue for the company?"
      ]
    },
    {
      "cell_type": "code",
      "execution_count": null,
      "id": "f5ce41cc",
      "metadata": {
        "id": "f5ce41cc",
        "outputId": "fc0d463e-f78e-419d-e78f-b3ab409d4a4a"
      },
      "outputs": [
        {
          "data": {
            "text/html": [
              "<div>\n",
              "<style scoped>\n",
              "    .dataframe tbody tr th:only-of-type {\n",
              "        vertical-align: middle;\n",
              "    }\n",
              "\n",
              "    .dataframe tbody tr th {\n",
              "        vertical-align: top;\n",
              "    }\n",
              "\n",
              "    .dataframe thead th {\n",
              "        text-align: right;\n",
              "    }\n",
              "</style>\n",
              "<table border=\"1\" class=\"dataframe\">\n",
              "  <thead>\n",
              "    <tr style=\"text-align: right;\">\n",
              "      <th></th>\n",
              "      <th>Store_ID</th>\n",
              "      <th>Store_Name</th>\n",
              "      <th>Ownership_Type</th>\n",
              "      <th>Street_Address</th>\n",
              "      <th>City</th>\n",
              "      <th>State</th>\n",
              "      <th>Country</th>\n",
              "      <th>Postcode</th>\n",
              "      <th>Timezone</th>\n",
              "      <th>Longitude</th>\n",
              "      <th>...</th>\n",
              "      <th>Energy</th>\n",
              "      <th>Protein</th>\n",
              "      <th>Total_Fat</th>\n",
              "      <th>Saturated_Fat</th>\n",
              "      <th>Trans_Fat</th>\n",
              "      <th>Cholestrol</th>\n",
              "      <th>Carbohydrates</th>\n",
              "      <th>Sugars</th>\n",
              "      <th>Dietary_Fibre</th>\n",
              "      <th>Sodium</th>\n",
              "    </tr>\n",
              "  </thead>\n",
              "  <tbody>\n",
              "    <tr>\n",
              "      <th>139</th>\n",
              "      <td>10753-102015</td>\n",
              "      <td>19th &amp; Telephone</td>\n",
              "      <td>Company Owned</td>\n",
              "      <td>620 SW 19th Street</td>\n",
              "      <td>Moore</td>\n",
              "      <td>OK</td>\n",
              "      <td>US</td>\n",
              "      <td>731605439</td>\n",
              "      <td>GMT-06:00 America/Chicago</td>\n",
              "      <td>-97.50</td>\n",
              "      <td>...</td>\n",
              "      <td>350</td>\n",
              "      <td>28</td>\n",
              "      <td>9.0</td>\n",
              "      <td>2.0</td>\n",
              "      <td>0.0</td>\n",
              "      <td>65</td>\n",
              "      <td>42</td>\n",
              "      <td>8</td>\n",
              "      <td>3</td>\n",
              "      <td>820</td>\n",
              "    </tr>\n",
              "    <tr>\n",
              "      <th>133</th>\n",
              "      <td>27316-246764</td>\n",
              "      <td>Fort Sill BX</td>\n",
              "      <td>Licensed</td>\n",
              "      <td>1718 Macomb Rd</td>\n",
              "      <td>Fort Sill</td>\n",
              "      <td>OK</td>\n",
              "      <td>US</td>\n",
              "      <td>73503</td>\n",
              "      <td>GMT-06:00 America/Chicago</td>\n",
              "      <td>-98.40</td>\n",
              "      <td>...</td>\n",
              "      <td>380</td>\n",
              "      <td>22</td>\n",
              "      <td>17.0</td>\n",
              "      <td>8.0</td>\n",
              "      <td>1.0</td>\n",
              "      <td>75</td>\n",
              "      <td>34</td>\n",
              "      <td>7</td>\n",
              "      <td>2</td>\n",
              "      <td>840</td>\n",
              "    </tr>\n",
              "    <tr>\n",
              "      <th>120</th>\n",
              "      <td>76740-99373</td>\n",
              "      <td>Target Cleveland South T-2228</td>\n",
              "      <td>Licensed</td>\n",
              "      <td>3465 Steelyard Dr</td>\n",
              "      <td>Cleveland</td>\n",
              "      <td>OH</td>\n",
              "      <td>US</td>\n",
              "      <td>441092385</td>\n",
              "      <td>GMT-05:00 America/New_York</td>\n",
              "      <td>-81.69</td>\n",
              "      <td>...</td>\n",
              "      <td>460</td>\n",
              "      <td>6</td>\n",
              "      <td>19.0</td>\n",
              "      <td>9.0</td>\n",
              "      <td>0.0</td>\n",
              "      <td>15</td>\n",
              "      <td>66</td>\n",
              "      <td>32</td>\n",
              "      <td>3</td>\n",
              "      <td>370</td>\n",
              "    </tr>\n",
              "    <tr>\n",
              "      <th>210</th>\n",
              "      <td>72668-65003</td>\n",
              "      <td>Super Target Tuscaloosa ST-1787</td>\n",
              "      <td>Licensed</td>\n",
              "      <td>1901 13th Ave E</td>\n",
              "      <td>Tuscaloosa</td>\n",
              "      <td>AL</td>\n",
              "      <td>US</td>\n",
              "      <td>354044785</td>\n",
              "      <td>GMT-06:00 America/Chicago</td>\n",
              "      <td>-87.51</td>\n",
              "      <td>...</td>\n",
              "      <td>100</td>\n",
              "      <td>8</td>\n",
              "      <td>2.5</td>\n",
              "      <td>1.5</td>\n",
              "      <td>0.0</td>\n",
              "      <td>10</td>\n",
              "      <td>12</td>\n",
              "      <td>12</td>\n",
              "      <td>0</td>\n",
              "      <td>125</td>\n",
              "    </tr>\n",
              "    <tr>\n",
              "      <th>103</th>\n",
              "      <td>15847-160724</td>\n",
              "      <td>Target Gateway T-1401</td>\n",
              "      <td>Licensed</td>\n",
              "      <td>519 Gateway Dr</td>\n",
              "      <td>Brooklyn</td>\n",
              "      <td>NY</td>\n",
              "      <td>US</td>\n",
              "      <td>112392801</td>\n",
              "      <td>GMT-05:00 America/New_York</td>\n",
              "      <td>-73.87</td>\n",
              "      <td>...</td>\n",
              "      <td>420</td>\n",
              "      <td>11</td>\n",
              "      <td>22.0</td>\n",
              "      <td>8.0</td>\n",
              "      <td>0.0</td>\n",
              "      <td>35</td>\n",
              "      <td>44</td>\n",
              "      <td>15</td>\n",
              "      <td>2</td>\n",
              "      <td>1030</td>\n",
              "    </tr>\n",
              "    <tr>\n",
              "      <th>338</th>\n",
              "      <td>20344-204610</td>\n",
              "      <td>Target Fountain Hills T-1432</td>\n",
              "      <td>Licensed</td>\n",
              "      <td>16825 E. Shea Boulevard</td>\n",
              "      <td>Fountain Hills</td>\n",
              "      <td>AZ</td>\n",
              "      <td>US</td>\n",
              "      <td>85268</td>\n",
              "      <td>GMT+000000 America/Phoenix</td>\n",
              "      <td>-111.72</td>\n",
              "      <td>...</td>\n",
              "      <td>810</td>\n",
              "      <td>21</td>\n",
              "      <td>32.0</td>\n",
              "      <td>15.0</td>\n",
              "      <td>1.0</td>\n",
              "      <td>60</td>\n",
              "      <td>114</td>\n",
              "      <td>103</td>\n",
              "      <td>2</td>\n",
              "      <td>400</td>\n",
              "    </tr>\n",
              "    <tr>\n",
              "      <th>258</th>\n",
              "      <td>9813-97844</td>\n",
              "      <td>JFK &amp; McCain</td>\n",
              "      <td>Company Owned</td>\n",
              "      <td>4824 JFK</td>\n",
              "      <td>North LIttle Rock</td>\n",
              "      <td>AR</td>\n",
              "      <td>US</td>\n",
              "      <td>72116</td>\n",
              "      <td>GMT-06:00 America/Chicago</td>\n",
              "      <td>-92.25</td>\n",
              "      <td>...</td>\n",
              "      <td>340</td>\n",
              "      <td>10</td>\n",
              "      <td>11.0</td>\n",
              "      <td>7.0</td>\n",
              "      <td>0.0</td>\n",
              "      <td>35</td>\n",
              "      <td>49</td>\n",
              "      <td>42</td>\n",
              "      <td>2</td>\n",
              "      <td>150</td>\n",
              "    </tr>\n",
              "    <tr>\n",
              "      <th>302</th>\n",
              "      <td>13949-109207</td>\n",
              "      <td>SR 135 &amp; Faith</td>\n",
              "      <td>Company Owned</td>\n",
              "      <td>311 S. State Rd 135</td>\n",
              "      <td>Greenwood</td>\n",
              "      <td>IN</td>\n",
              "      <td>US</td>\n",
              "      <td>461421423</td>\n",
              "      <td>GMT-05:00 America/Indianapolis</td>\n",
              "      <td>-86.16</td>\n",
              "      <td>...</td>\n",
              "      <td>370</td>\n",
              "      <td>14</td>\n",
              "      <td>6.0</td>\n",
              "      <td>3.5</td>\n",
              "      <td>0.0</td>\n",
              "      <td>25</td>\n",
              "      <td>65</td>\n",
              "      <td>59</td>\n",
              "      <td>1</td>\n",
              "      <td>250</td>\n",
              "    </tr>\n",
              "    <tr>\n",
              "      <th>291</th>\n",
              "      <td>9706-96992</td>\n",
              "      <td>Champaign - 5th &amp; Green</td>\n",
              "      <td>Company Owned</td>\n",
              "      <td>503 E. Green Street</td>\n",
              "      <td>Champaign</td>\n",
              "      <td>IL</td>\n",
              "      <td>US</td>\n",
              "      <td>618205719</td>\n",
              "      <td>GMT-06:00 America/Chicago</td>\n",
              "      <td>-88.23</td>\n",
              "      <td>...</td>\n",
              "      <td>290</td>\n",
              "      <td>8</td>\n",
              "      <td>11.0</td>\n",
              "      <td>7.0</td>\n",
              "      <td>0.0</td>\n",
              "      <td>35</td>\n",
              "      <td>41</td>\n",
              "      <td>34</td>\n",
              "      <td>1</td>\n",
              "      <td>125</td>\n",
              "    </tr>\n",
              "    <tr>\n",
              "      <th>105</th>\n",
              "      <td>7381-1628</td>\n",
              "      <td>Elmwood Avenue</td>\n",
              "      <td>Company Owned</td>\n",
              "      <td>933 Elmwood Avenue</td>\n",
              "      <td>Buffalo</td>\n",
              "      <td>NY</td>\n",
              "      <td>US</td>\n",
              "      <td>142221211</td>\n",
              "      <td>GMT-05:00 America/New_York</td>\n",
              "      <td>-78.88</td>\n",
              "      <td>...</td>\n",
              "      <td>500</td>\n",
              "      <td>21</td>\n",
              "      <td>26.0</td>\n",
              "      <td>10.0</td>\n",
              "      <td>0.0</td>\n",
              "      <td>50</td>\n",
              "      <td>46</td>\n",
              "      <td>15</td>\n",
              "      <td>2</td>\n",
              "      <td>1320</td>\n",
              "    </tr>\n",
              "  </tbody>\n",
              "</table>\n",
              "<p>10 rows × 29 columns</p>\n",
              "</div>"
            ],
            "text/plain": [
              "         Store_ID                       Store_Name Ownership_Type  \\\n",
              "139  10753-102015                 19th & Telephone  Company Owned   \n",
              "133  27316-246764                     Fort Sill BX       Licensed   \n",
              "120   76740-99373    Target Cleveland South T-2228       Licensed   \n",
              "210   72668-65003  Super Target Tuscaloosa ST-1787       Licensed   \n",
              "103  15847-160724            Target Gateway T-1401       Licensed   \n",
              "338  20344-204610     Target Fountain Hills T-1432       Licensed   \n",
              "258    9813-97844                     JFK & McCain  Company Owned   \n",
              "302  13949-109207                   SR 135 & Faith  Company Owned   \n",
              "291    9706-96992          Champaign - 5th & Green  Company Owned   \n",
              "105     7381-1628                   Elmwood Avenue  Company Owned   \n",
              "\n",
              "              Street_Address               City State Country   Postcode  \\\n",
              "139       620 SW 19th Street              Moore    OK      US  731605439   \n",
              "133           1718 Macomb Rd          Fort Sill    OK      US      73503   \n",
              "120        3465 Steelyard Dr          Cleveland    OH      US  441092385   \n",
              "210          1901 13th Ave E         Tuscaloosa    AL      US  354044785   \n",
              "103           519 Gateway Dr           Brooklyn    NY      US  112392801   \n",
              "338  16825 E. Shea Boulevard     Fountain Hills    AZ      US      85268   \n",
              "258                 4824 JFK  North LIttle Rock    AR      US      72116   \n",
              "302      311 S. State Rd 135          Greenwood    IN      US  461421423   \n",
              "291      503 E. Green Street          Champaign    IL      US  618205719   \n",
              "105       933 Elmwood Avenue            Buffalo    NY      US  142221211   \n",
              "\n",
              "                           Timezone  Longitude  ...  Energy  Protein  \\\n",
              "139       GMT-06:00 America/Chicago     -97.50  ...     350       28   \n",
              "133       GMT-06:00 America/Chicago     -98.40  ...     380       22   \n",
              "120      GMT-05:00 America/New_York     -81.69  ...     460        6   \n",
              "210       GMT-06:00 America/Chicago     -87.51  ...     100        8   \n",
              "103      GMT-05:00 America/New_York     -73.87  ...     420       11   \n",
              "338      GMT+000000 America/Phoenix    -111.72  ...     810       21   \n",
              "258       GMT-06:00 America/Chicago     -92.25  ...     340       10   \n",
              "302  GMT-05:00 America/Indianapolis     -86.16  ...     370       14   \n",
              "291       GMT-06:00 America/Chicago     -88.23  ...     290        8   \n",
              "105      GMT-05:00 America/New_York     -78.88  ...     500       21   \n",
              "\n",
              "     Total_Fat  Saturated_Fat  Trans_Fat  Cholestrol Carbohydrates Sugars  \\\n",
              "139        9.0            2.0        0.0          65            42      8   \n",
              "133       17.0            8.0        1.0          75            34      7   \n",
              "120       19.0            9.0        0.0          15            66     32   \n",
              "210        2.5            1.5        0.0          10            12     12   \n",
              "103       22.0            8.0        0.0          35            44     15   \n",
              "338       32.0           15.0        1.0          60           114    103   \n",
              "258       11.0            7.0        0.0          35            49     42   \n",
              "302        6.0            3.5        0.0          25            65     59   \n",
              "291       11.0            7.0        0.0          35            41     34   \n",
              "105       26.0           10.0        0.0          50            46     15   \n",
              "\n",
              "     Dietary_Fibre  Sodium  \n",
              "139              3     820  \n",
              "133              2     840  \n",
              "120              3     370  \n",
              "210              0     125  \n",
              "103              2    1030  \n",
              "338              2     400  \n",
              "258              2     150  \n",
              "302              1     250  \n",
              "291              1     125  \n",
              "105              2    1320  \n",
              "\n",
              "[10 rows x 29 columns]"
            ]
          },
          "execution_count": 24,
          "metadata": {},
          "output_type": "execute_result"
        }
      ],
      "source": [
        "top10outletsrevenue = data.iloc[data['Revenue'].sort_values(ascending=False)[:10].index,:]\n",
        "top10outletsrevenue"
      ]
    },
    {
      "cell_type": "code",
      "execution_count": null,
      "id": "a46884d3",
      "metadata": {
        "id": "a46884d3",
        "outputId": "246e5155-c3cb-49c0-9e04-c4c466fdeb2a"
      },
      "outputs": [
        {
          "data": {
            "text/html": [
              "<div>\n",
              "<style scoped>\n",
              "    .dataframe tbody tr th:only-of-type {\n",
              "        vertical-align: middle;\n",
              "    }\n",
              "\n",
              "    .dataframe tbody tr th {\n",
              "        vertical-align: top;\n",
              "    }\n",
              "\n",
              "    .dataframe thead th {\n",
              "        text-align: right;\n",
              "    }\n",
              "</style>\n",
              "<table border=\"1\" class=\"dataframe\">\n",
              "  <thead>\n",
              "    <tr style=\"text-align: right;\">\n",
              "      <th></th>\n",
              "      <th>Revenue</th>\n",
              "    </tr>\n",
              "    <tr>\n",
              "      <th>Store_Name</th>\n",
              "      <th></th>\n",
              "    </tr>\n",
              "  </thead>\n",
              "  <tbody>\n",
              "    <tr>\n",
              "      <th>19th &amp; Telephone</th>\n",
              "      <td>49.680624</td>\n",
              "    </tr>\n",
              "    <tr>\n",
              "      <th>Fort Sill BX</th>\n",
              "      <td>49.415723</td>\n",
              "    </tr>\n",
              "    <tr>\n",
              "      <th>Target Cleveland South T-2228</th>\n",
              "      <td>49.044008</td>\n",
              "    </tr>\n",
              "    <tr>\n",
              "      <th>Super Target Tuscaloosa ST-1787</th>\n",
              "      <td>48.907285</td>\n",
              "    </tr>\n",
              "    <tr>\n",
              "      <th>Target Gateway T-1401</th>\n",
              "      <td>48.779107</td>\n",
              "    </tr>\n",
              "    <tr>\n",
              "      <th>Target Fountain Hills T-1432</th>\n",
              "      <td>48.744926</td>\n",
              "    </tr>\n",
              "    <tr>\n",
              "      <th>JFK &amp; McCain</th>\n",
              "      <td>48.689383</td>\n",
              "    </tr>\n",
              "    <tr>\n",
              "      <th>SR 135 &amp; Faith</th>\n",
              "      <td>48.569750</td>\n",
              "    </tr>\n",
              "    <tr>\n",
              "      <th>Champaign - 5th &amp; Green</th>\n",
              "      <td>48.424482</td>\n",
              "    </tr>\n",
              "    <tr>\n",
              "      <th>Elmwood Avenue</th>\n",
              "      <td>48.290963</td>\n",
              "    </tr>\n",
              "  </tbody>\n",
              "</table>\n",
              "</div>"
            ],
            "text/plain": [
              "                                   Revenue\n",
              "Store_Name                                \n",
              "19th & Telephone                 49.680624\n",
              "Fort Sill BX                     49.415723\n",
              "Target Cleveland South T-2228    49.044008\n",
              "Super Target Tuscaloosa ST-1787  48.907285\n",
              "Target Gateway T-1401            48.779107\n",
              "Target Fountain Hills T-1432     48.744926\n",
              "JFK & McCain                     48.689383\n",
              "SR 135 & Faith                   48.569750\n",
              "Champaign - 5th & Green          48.424482\n",
              "Elmwood Avenue                   48.290963"
            ]
          },
          "execution_count": 33,
          "metadata": {},
          "output_type": "execute_result"
        }
      ],
      "source": [
        "top10outletsrevenue[['Store_Name', 'Revenue']].set_index(['Store_Name'])"
      ]
    },
    {
      "cell_type": "code",
      "execution_count": null,
      "id": "aac0b542",
      "metadata": {
        "id": "aac0b542",
        "outputId": "1b533dae-56a8-49a6-b17d-9aa19b694aa8"
      },
      "outputs": [
        {
          "data": {
            "text/plain": [
              "<Axes: xlabel='Store_Name'>"
            ]
          },
          "execution_count": 35,
          "metadata": {},
          "output_type": "execute_result"
        },
        {
          "data": {
            "image/png": "[encoded data removed]",
            "text/plain": [
              "<Figure size 640x480 with 1 Axes>"
            ]
          },
          "metadata": {},
          "output_type": "display_data"
        }
      ],
      "source": [
        "top10outletsrevenue[['Store_Name', 'Revenue']].set_index(['Store_Name']).plot(kind = 'bar', color='#1B9E77')"
      ]
    },
    {
      "cell_type": "markdown",
      "id": "f569f3dc",
      "metadata": {
        "id": "f569f3dc"
      },
      "source": [
        "### Q3: Top1 10 Outlets generate maximum profilt for the company??"
      ]
    },
    {
      "cell_type": "code",
      "execution_count": null,
      "id": "e15b1dac",
      "metadata": {
        "id": "e15b1dac"
      },
      "outputs": [],
      "source": [
        "top10outletsprofits = data.iloc[data['Profits'].sort_values(ascending=False)[:10].index,:]"
      ]
    },
    {
      "cell_type": "code",
      "execution_count": null,
      "id": "ee623fcf",
      "metadata": {
        "id": "ee623fcf",
        "outputId": "45af3ebe-0458-4875-8b80-02267084cd07"
      },
      "outputs": [
        {
          "data": {
            "text/html": [
              "<div>\n",
              "<style scoped>\n",
              "    .dataframe tbody tr th:only-of-type {\n",
              "        vertical-align: middle;\n",
              "    }\n",
              "\n",
              "    .dataframe tbody tr th {\n",
              "        vertical-align: top;\n",
              "    }\n",
              "\n",
              "    .dataframe thead th {\n",
              "        text-align: right;\n",
              "    }\n",
              "</style>\n",
              "<table border=\"1\" class=\"dataframe\">\n",
              "  <thead>\n",
              "    <tr style=\"text-align: right;\">\n",
              "      <th></th>\n",
              "      <th>Profits</th>\n",
              "    </tr>\n",
              "    <tr>\n",
              "      <th>Store_Name</th>\n",
              "      <th></th>\n",
              "    </tr>\n",
              "  </thead>\n",
              "  <tbody>\n",
              "    <tr>\n",
              "      <th>Target Kansas City T-2222</th>\n",
              "      <td>13.514181</td>\n",
              "    </tr>\n",
              "    <tr>\n",
              "      <th>Super Target Tuscaloosa ST-1787</th>\n",
              "      <td>13.431480</td>\n",
              "    </tr>\n",
              "    <tr>\n",
              "      <th>U of AL - Ferguson Cntr</th>\n",
              "      <td>12.744686</td>\n",
              "    </tr>\n",
              "    <tr>\n",
              "      <th>2001 L St</th>\n",
              "      <td>12.733509</td>\n",
              "    </tr>\n",
              "    <tr>\n",
              "      <th>Champaign - 5th &amp; Green</th>\n",
              "      <td>12.536321</td>\n",
              "    </tr>\n",
              "    <tr>\n",
              "      <th>Target Cleveland South T-2228</th>\n",
              "      <td>12.417562</td>\n",
              "    </tr>\n",
              "    <tr>\n",
              "      <th>Magazine &amp; Washington</th>\n",
              "      <td>12.328887</td>\n",
              "    </tr>\n",
              "    <tr>\n",
              "      <th>State Rd 135 &amp; Stonegate</th>\n",
              "      <td>12.325364</td>\n",
              "    </tr>\n",
              "    <tr>\n",
              "      <th>Kroger Southwest Store #572</th>\n",
              "      <td>12.144602</td>\n",
              "    </tr>\n",
              "    <tr>\n",
              "      <th>Target Midwest City T-2061</th>\n",
              "      <td>12.118769</td>\n",
              "    </tr>\n",
              "  </tbody>\n",
              "</table>\n",
              "</div>"
            ],
            "text/plain": [
              "                                   Profits\n",
              "Store_Name                                \n",
              "Target Kansas City T-2222        13.514181\n",
              "Super Target Tuscaloosa ST-1787  13.431480\n",
              "U of AL - Ferguson Cntr          12.744686\n",
              "2001 L St                        12.733509\n",
              "Champaign - 5th & Green          12.536321\n",
              "Target Cleveland South T-2228    12.417562\n",
              "Magazine & Washington            12.328887\n",
              "State Rd 135 & Stonegate         12.325364\n",
              "Kroger Southwest Store #572      12.144602\n",
              "Target Midwest City T-2061       12.118769"
            ]
          },
          "execution_count": 48,
          "metadata": {},
          "output_type": "execute_result"
        }
      ],
      "source": [
        "top10outletsprofits[['Store_Name','Profits']].set_index(['Store_Name'])"
      ]
    },
    {
      "cell_type": "code",
      "execution_count": null,
      "id": "0e197da5",
      "metadata": {
        "id": "0e197da5",
        "outputId": "b03b7096-77d8-457e-f294-828f4fc0aba4"
      },
      "outputs": [
        {
          "data": {
            "text/plain": [
              "<Axes: xlabel='Store_Name'>"
            ]
          },
          "execution_count": 52,
          "metadata": {},
          "output_type": "execute_result"
        },
        {
          "data": {
            "image/png": "[encoded data removed]",
            "text/plain": [
              "<Figure size 640x480 with 1 Axes>"
            ]
          },
          "metadata": {},
          "output_type": "display_data"
        }
      ],
      "source": [
        "top10outletsprofits[['Store_Name','Profits']].set_index(['Store_Name']).plot(kind='bar')"
      ]
    },
    {
      "cell_type": "code",
      "execution_count": null,
      "id": "1154a769",
      "metadata": {
        "id": "1154a769",
        "outputId": "1635a19f-435c-4468-b0fb-ad1bb0c554e8"
      },
      "outputs": [
        {
          "data": {
            "text/plain": [
              "Index(['Store_ID', 'Store_Name', 'Ownership_Type', 'Street_Address', 'City',\n",
              "       'State', 'Country', 'Postcode', 'Timezone', 'Longitude', 'Latitude',\n",
              "       'Revenue', 'Profits', 'Gross_Profit_Margin', 'Number_of_Employees',\n",
              "       'Customers', 'Best_Selling_Item', 'Category', 'Serve_Size', 'Energy',\n",
              "       'Protein', 'Total_Fat', 'Saturated_Fat', 'Trans_Fat', 'Cholestrol',\n",
              "       'Carbohydrates', 'Sugars', 'Dietary_Fibre', 'Sodium'],\n",
              "      dtype='object')"
            ]
          },
          "execution_count": 54,
          "metadata": {},
          "output_type": "execute_result"
        }
      ],
      "source": [
        "data.columns"
      ]
    },
    {
      "cell_type": "markdown",
      "id": "5e0b4aff",
      "metadata": {
        "id": "5e0b4aff"
      },
      "source": [
        "#### Q3: Which top 10 outlets have highest numbers of employees???"
      ]
    },
    {
      "cell_type": "code",
      "execution_count": null,
      "id": "9a0fa50b",
      "metadata": {
        "id": "9a0fa50b"
      },
      "outputs": [],
      "source": [
        "top10outletsemp = data.iloc[data['Number_of_Employees'].sort_values(ascending=False)[:10].index,:]"
      ]
    },
    {
      "cell_type": "code",
      "execution_count": null,
      "id": "44a2c773",
      "metadata": {
        "id": "44a2c773",
        "outputId": "48469cf6-c52c-444d-e6e9-32fcf2fcb79a"
      },
      "outputs": [
        {
          "data": {
            "text/html": [
              "<div>\n",
              "<style scoped>\n",
              "    .dataframe tbody tr th:only-of-type {\n",
              "        vertical-align: middle;\n",
              "    }\n",
              "\n",
              "    .dataframe tbody tr th {\n",
              "        vertical-align: top;\n",
              "    }\n",
              "\n",
              "    .dataframe thead th {\n",
              "        text-align: right;\n",
              "    }\n",
              "</style>\n",
              "<table border=\"1\" class=\"dataframe\">\n",
              "  <thead>\n",
              "    <tr style=\"text-align: right;\">\n",
              "      <th></th>\n",
              "      <th>Number_of_Employees</th>\n",
              "    </tr>\n",
              "  </thead>\n",
              "  <tbody>\n",
              "    <tr>\n",
              "      <th>139</th>\n",
              "      <td>149</td>\n",
              "    </tr>\n",
              "    <tr>\n",
              "      <th>133</th>\n",
              "      <td>148</td>\n",
              "    </tr>\n",
              "    <tr>\n",
              "      <th>120</th>\n",
              "      <td>147</td>\n",
              "    </tr>\n",
              "    <tr>\n",
              "      <th>258</th>\n",
              "      <td>146</td>\n",
              "    </tr>\n",
              "    <tr>\n",
              "      <th>338</th>\n",
              "      <td>146</td>\n",
              "    </tr>\n",
              "    <tr>\n",
              "      <th>210</th>\n",
              "      <td>146</td>\n",
              "    </tr>\n",
              "    <tr>\n",
              "      <th>103</th>\n",
              "      <td>146</td>\n",
              "    </tr>\n",
              "    <tr>\n",
              "      <th>291</th>\n",
              "      <td>145</td>\n",
              "    </tr>\n",
              "    <tr>\n",
              "      <th>105</th>\n",
              "      <td>145</td>\n",
              "    </tr>\n",
              "    <tr>\n",
              "      <th>167</th>\n",
              "      <td>145</td>\n",
              "    </tr>\n",
              "  </tbody>\n",
              "</table>\n",
              "</div>"
            ],
            "text/plain": [
              "     Number_of_Employees\n",
              "139                  149\n",
              "133                  148\n",
              "120                  147\n",
              "258                  146\n",
              "338                  146\n",
              "210                  146\n",
              "103                  146\n",
              "291                  145\n",
              "105                  145\n",
              "167                  145"
            ]
          },
          "execution_count": 67,
          "metadata": {},
          "output_type": "execute_result"
        }
      ],
      "source": [
        "top10outletsemp[['Number_of_Employees']]"
      ]
    },
    {
      "cell_type": "code",
      "execution_count": null,
      "id": "5d286cbe",
      "metadata": {
        "id": "5d286cbe",
        "outputId": "94e3f55d-5bff-4d4a-af13-0a453fbf4a8c"
      },
      "outputs": [
        {
          "data": {
            "text/plain": [
              "<Axes: >"
            ]
          },
          "execution_count": 65,
          "metadata": {},
          "output_type": "execute_result"
        },
        {
          "data": {
            "image/png": "[encoded data removed]",
            "text/plain": [
              "<Figure size 640x480 with 1 Axes>"
            ]
          },
          "metadata": {},
          "output_type": "display_data"
        }
      ],
      "source": [
        "top10outletsemp['Number_of_Employees'].plot(kind='bar')"
      ]
    },
    {
      "cell_type": "markdown",
      "id": "77ab87ee",
      "metadata": {
        "id": "77ab87ee"
      },
      "source": [
        "#### Q:Which top 10 outlets have highest number of customers??"
      ]
    },
    {
      "cell_type": "code",
      "execution_count": null,
      "id": "0d3cb9fe",
      "metadata": {
        "id": "0d3cb9fe",
        "outputId": "109a24c8-0b55-4ec1-8920-66f860cf6a93"
      },
      "outputs": [
        {
          "data": {
            "text/plain": [
              "Index(['Store_ID', 'Store_Name', 'Ownership_Type', 'Street_Address', 'City',\n",
              "       'State', 'Country', 'Postcode', 'Timezone', 'Longitude', 'Latitude',\n",
              "       'Revenue', 'Profits', 'Gross_Profit_Margin', 'Number_of_Employees',\n",
              "       'Customers', 'Best_Selling_Item', 'Category', 'Serve_Size', 'Energy',\n",
              "       'Protein', 'Total_Fat', 'Saturated_Fat', 'Trans_Fat', 'Cholestrol',\n",
              "       'Carbohydrates', 'Sugars', 'Dietary_Fibre', 'Sodium'],\n",
              "      dtype='object')"
            ]
          },
          "execution_count": 68,
          "metadata": {},
          "output_type": "execute_result"
        }
      ],
      "source": [
        "data.columns"
      ]
    },
    {
      "cell_type": "code",
      "execution_count": null,
      "id": "bde19194",
      "metadata": {
        "id": "bde19194"
      },
      "outputs": [],
      "source": [
        "top10outletscust = data.iloc[data['Customers'].sort_values(ascending=False)[:10].index,:]"
      ]
    },
    {
      "cell_type": "code",
      "execution_count": null,
      "id": "637c66cd",
      "metadata": {
        "id": "637c66cd",
        "outputId": "04fada80-b6f6-4d7c-b5dd-6e8117b3178a"
      },
      "outputs": [
        {
          "data": {
            "text/plain": [
              "281    24964\n",
              "57     24780\n",
              "51     24599\n",
              "275    24465\n",
              "38     24344\n",
              "128    24250\n",
              "327    24205\n",
              "20     24162\n",
              "255    24139\n",
              "175    24101\n",
              "Name: Customers, dtype: int32"
            ]
          },
          "execution_count": 76,
          "metadata": {},
          "output_type": "execute_result"
        }
      ],
      "source": [
        "top10outletscust['Customers']"
      ]
    },
    {
      "cell_type": "code",
      "execution_count": null,
      "id": "990709eb",
      "metadata": {
        "id": "990709eb",
        "outputId": "19edfb5d-c1f9-4806-fcfe-e9d102829a1a"
      },
      "outputs": [
        {
          "data": {
            "text/plain": [
              "<Axes: >"
            ]
          },
          "execution_count": 77,
          "metadata": {},
          "output_type": "execute_result"
        },
        {
          "data": {
            "image/png": "[encoded data removed]",
            "text/plain": [
              "<Figure size 640x480 with 1 Axes>"
            ]
          },
          "metadata": {},
          "output_type": "display_data"
        }
      ],
      "source": [
        "top10outletscust['Customers'].plot(kind='bar')"
      ]
    },
    {
      "cell_type": "markdown",
      "id": "67433eb1",
      "metadata": {
        "id": "67433eb1"
      },
      "source": [
        "### Nutritional value base Analysis"
      ]
    },
    {
      "cell_type": "markdown",
      "id": "1a4d346f",
      "metadata": {
        "id": "1a4d346f"
      },
      "source": [
        "#### Q: Which is most common category in the menu??"
      ]
    },
    {
      "cell_type": "code",
      "execution_count": null,
      "id": "88b67763",
      "metadata": {
        "id": "88b67763",
        "outputId": "09d70023-d4c4-45f4-84a8-df3e4308f77e"
      },
      "outputs": [
        {
          "data": {
            "text/plain": [
              "Hot Beverages           99\n",
              "Breakfast               49\n",
              "Cold Beverages          45\n",
              "Smoothies & Shakes      34\n",
              "Chicken & Fish          26\n",
              "Desserts                24\n",
              "Snacks & Sides          17\n",
              "Beef & Pork             15\n",
              "Sandwiches and Wraps    10\n",
              "Salads                   6\n",
              "Condiments               5\n",
              "New Products             5\n",
              "Nuggets                  3\n",
              "Chicken Wings            2\n",
              "Name: Category, dtype: int64"
            ]
          },
          "execution_count": 79,
          "metadata": {},
          "output_type": "execute_result"
        }
      ],
      "source": [
        "data['Category'].value_counts()"
      ]
    },
    {
      "cell_type": "code",
      "execution_count": null,
      "id": "260e57dd",
      "metadata": {
        "id": "260e57dd",
        "outputId": "bbb642d6-fe1b-4309-a8a1-0d7c9f0ef52b"
      },
      "outputs": [
        {
          "data": {
            "text/plain": [
              "<Axes: >"
            ]
          },
          "execution_count": 80,
          "metadata": {},
          "output_type": "execute_result"
        },
        {
          "data": {
            "image/png": "[encoded data removed]",
            "text/plain": [
              "<Figure size 640x480 with 1 Axes>"
            ]
          },
          "metadata": {},
          "output_type": "display_data"
        }
      ],
      "source": [
        "data['Category'].value_counts().plot(kind='bar')"
      ]
    },
    {
      "cell_type": "markdown",
      "id": "4a1d50c4",
      "metadata": {
        "id": "4a1d50c4"
      },
      "source": [
        "#### Q:on average how many calories are present in each category of the menu??"
      ]
    },
    {
      "cell_type": "code",
      "execution_count": null,
      "id": "17cfd317",
      "metadata": {
        "id": "17cfd317",
        "outputId": "2c5bdfee-80a9-4f5f-f36d-89df6febd470"
      },
      "outputs": [
        {
          "data": {
            "text/plain": [
              "Index(['Store_ID', 'Store_Name', 'Ownership_Type', 'Street_Address', 'City',\n",
              "       'State', 'Country', 'Postcode', 'Timezone', 'Longitude', 'Latitude',\n",
              "       'Revenue', 'Profits', 'Gross_Profit_Margin', 'Number_of_Employees',\n",
              "       'Customers', 'Best_Selling_Item', 'Category', 'Serve_Size', 'Energy',\n",
              "       'Protein', 'Total_Fat', 'Saturated_Fat', 'Trans_Fat', 'Cholestrol',\n",
              "       'Carbohydrates', 'Sugars', 'Dietary_Fibre', 'Sodium'],\n",
              "      dtype='object')"
            ]
          },
          "execution_count": 81,
          "metadata": {},
          "output_type": "execute_result"
        }
      ],
      "source": [
        "data.columns"
      ]
    },
    {
      "cell_type": "code",
      "execution_count": null,
      "id": "04af172e",
      "metadata": {
        "id": "04af172e",
        "outputId": "f6175ebb-15d3-4574-93ed-34acab77167e"
      },
      "outputs": [
        {
          "data": {
            "text/plain": [
              "Category\n",
              "Chicken & Fish          560.384615\n",
              "Sandwiches and Wraps    505.700000\n",
              "Breakfast               496.020408\n",
              "Beef & Pork             494.000000\n",
              "Smoothies & Shakes      481.088235\n",
              "Chicken Wings           384.000000\n",
              "New Products            334.400000\n",
              "Snacks & Sides          290.352941\n",
              "Nuggets                 280.666667\n",
              "Hot Beverages           273.101010\n",
              "Salads                  270.000000\n",
              "Desserts                188.125000\n",
              "Cold Beverages          123.711111\n",
              "Condiments               39.200000\n",
              "Name: Energy, dtype: float64"
            ]
          },
          "execution_count": 88,
          "metadata": {},
          "output_type": "execute_result"
        }
      ],
      "source": [
        "data.groupby(['Category'])['Energy'].mean().sort_values(ascending=False)"
      ]
    },
    {
      "cell_type": "code",
      "execution_count": null,
      "id": "60a13af5",
      "metadata": {
        "id": "60a13af5"
      },
      "outputs": [],
      "source": []
    },
    {
      "cell_type": "code",
      "execution_count": null,
      "id": "eb3ea654",
      "metadata": {
        "id": "eb3ea654"
      },
      "outputs": [],
      "source": []
    },
    {
      "cell_type": "code",
      "execution_count": null,
      "id": "53c87c27",
      "metadata": {
        "id": "53c87c27"
      },
      "outputs": [],
      "source": []
    },
    {
      "cell_type": "code",
      "execution_count": null,
      "id": "39907046",
      "metadata": {
        "id": "39907046"
      },
      "outputs": [],
      "source": []
    },
    {
      "cell_type": "code",
      "execution_count": null,
      "id": "a52f2932",
      "metadata": {
        "id": "a52f2932"
      },
      "outputs": [],
      "source": []
    },
    {
      "cell_type": "code",
      "execution_count": null,
      "id": "cc38fb88",
      "metadata": {
        "id": "cc38fb88"
      },
      "outputs": [],
      "source": []
    },
    {
      "cell_type": "code",
      "execution_count": null,
      "id": "6ea8951f",
      "metadata": {
        "id": "6ea8951f"
      },
      "outputs": [],
      "source": []
    },
    {
      "cell_type": "code",
      "execution_count": null,
      "id": "01736632",
      "metadata": {
        "id": "01736632"
      },
      "outputs": [],
      "source": []
    },
    {
      "cell_type": "code",
      "execution_count": null,
      "id": "5feba516",
      "metadata": {
        "id": "5feba516"
      },
      "outputs": [],
      "source": []
    }
  ],
  "metadata": {
    "kernelspec": {
      "display_name": "Python 3 (ipykernel)",
      "language": "python",
      "name": "python3"
    },
    "language_info": {
      "codemirror_mode": {
        "name": "ipython",
        "version": 3
      },
      "file_extension": ".py",
      "mimetype": "text/x-python",
      "name": "python",
      "nbconvert_exporter": "python",
      "pygments_lexer": "ipython3",
      "version": "3.8.16"
    },
    "colab": {
      "provenance": []
    }
  },
  "nbformat": 4,
  "nbformat_minor": 5
}